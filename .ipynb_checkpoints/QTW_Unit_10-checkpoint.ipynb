{
 "cells": [
  {
   "cell_type": "markdown",
   "metadata": {},
   "source": [
    "# Unit 10 - Boston Housing Data"
   ]
  },
  {
   "cell_type": "markdown",
   "metadata": {},
   "source": [
    "Missing Data Assignment\n",
    "\n",
    "Step 1:\n",
    "\n",
    "**COMPLETE:** a) Using Sklearn get the Boston Housing dataset.\n",
    "https://scikit-learn.org/stable/modules/generated/sklearn.datasets.load_boston.html\n",
    "\n",
    "b) Fit a linear regressor to the data as a baseline.  There is no need to do Cross-Validation.  We are exploring the change in results\n",
    "\n",
    "\n",
    "c) What is the loss and what are the goodness of fit parameters?  This will be our baseline for comparison\n",
    "\n",
    "\n",
    "Step 2: (repeated)\n",
    "\n",
    "a) For select between 1, 5 10, 20, 33, and 50% of your data on a single column (Completely at random), replace the present value with a NAN and then perform an imputation of that value.   \n",
    "\n",
    "\n",
    "b) In. each case perform a fit with the imputed data and compare the loss and goodness of fit to your baseline.\n",
    "\n",
    "\n",
    "Step 3: \n",
    "\n",
    "a) Take 2 different columns and create data “Missing at Random” when controlled for a third variable (i.e if Variable Z is > 30, than Variables X, Y are randomly missing).  Make runs with 10%, 20% and 30% missing data imputed via your best guess.  Repeat your fit and comparisons to the baseline.\n",
    "\n",
    "\n",
    "Step 4:  \n",
    "\n",
    "a) Create a Missing Not at Random pattern in which 25% of the data is missing for a single column.    Impute your data, fit the results and compare to a baseline.\n",
    "\n",
    "\n",
    "Step 5 \n",
    "\n",
    "a) (Extra Credit) (10 points):  Using the MCMC method, and your data from step 4, What is the difference in performance between i"
   ]
  },
  {
   "cell_type": "code",
   "execution_count": 1,
   "metadata": {},
   "outputs": [],
   "source": [
    "from sklearn.datasets import load_boston\n",
    "boston = load_boston()\n"
   ]
  },
  {
   "cell_type": "code",
   "execution_count": 2,
   "metadata": {},
   "outputs": [
    {
     "name": "stdout",
     "output_type": "stream",
     "text": [
      "(506, 13)\n"
     ]
    }
   ],
   "source": [
    "print(boston.data.shape)\n",
    "#(506, 13)"
   ]
  },
  {
   "cell_type": "code",
   "execution_count": null,
   "metadata": {},
   "outputs": [],
   "source": []
  },
  {
   "cell_type": "code",
   "execution_count": null,
   "metadata": {},
   "outputs": [],
   "source": []
  },
  {
   "cell_type": "code",
   "execution_count": null,
   "metadata": {},
   "outputs": [],
   "source": []
  },
  {
   "cell_type": "code",
   "execution_count": null,
   "metadata": {},
   "outputs": [],
   "source": []
  }
 ],
 "metadata": {
  "kernelspec": {
   "display_name": "Python 3",
   "language": "python",
   "name": "python3"
  },
  "language_info": {
   "codemirror_mode": {
    "name": "ipython",
    "version": 3
   },
   "file_extension": ".py",
   "mimetype": "text/x-python",
   "name": "python",
   "nbconvert_exporter": "python",
   "pygments_lexer": "ipython3",
   "version": "3.7.4"
  }
 },
 "nbformat": 4,
 "nbformat_minor": 4
}
